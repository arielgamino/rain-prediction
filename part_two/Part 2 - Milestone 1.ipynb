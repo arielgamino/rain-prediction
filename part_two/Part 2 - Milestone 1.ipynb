{
 "cells": [
  {
   "cell_type": "markdown",
   "metadata": {},
   "source": [
    "### Objective\n",
    "-\tUse the model that was fit to obtain the accuracy score, check for overfitting/underfitting and compare it to a dummy baseline model.\n",
    "-\tUse the fitted model to obtain the confusion matrix and the classification report and understand the various metrics that can be derived from it.\n",
    "\n"
   ]
  },
  {
   "cell_type": "code",
   "execution_count": 103,
   "metadata": {},
   "outputs": [],
   "source": [
    "import pandas as pd\n",
    "import seaborn as sns\n",
    "from sklearn.linear_model import LogisticRegression\n",
    "from sklearn.metrics import accuracy_score\n",
    "from sklearn.metrics import confusion_matrix\n",
    "from sklearn.metrics import classification_report\n",
    "from sklearn.metrics import precision_recall_fscore_support\n",
    "from sklearn.preprocessing import binarize\n",
    "import matplotlib.pyplot as plt"
   ]
  },
  {
   "cell_type": "markdown",
   "metadata": {},
   "source": [
    "##### 1. Load the dataset that was cleaned (from the data directory) and see if it requires any more cleaning after reading it (hint: Check the first column). Feed the train data into a Logistic Regression model with an arbitrary random state. \n",
    "* Feel free to play around with the parameters of the LogisticRegression class."
   ]
  },
  {
   "cell_type": "code",
   "execution_count": 2,
   "metadata": {},
   "outputs": [],
   "source": [
    "# Read cleaned data training, test, labels\n",
    "X_train = pd.read_pickle(\"X_train.pkl\")\n",
    "X_test  = pd.read_pickle(\"X_test.pkl\")\n",
    "y_train = pd.read_pickle(\"y_train.pkl\")\n",
    "y_test  = pd.read_pickle(\"y_test.pkl\")"
   ]
  },
  {
   "cell_type": "code",
   "execution_count": 4,
   "metadata": {},
   "outputs": [
    {
     "data": {
      "text/plain": [
       "Index(['MinTemp', 'MaxTemp', 'Rainfall', 'Evaporation', 'Sunshine',\n",
       "       'WindGustSpeed', 'WindSpeed9am', 'WindSpeed3pm', 'Humidity9am',\n",
       "       'Humidity3pm',\n",
       "       ...\n",
       "       'WindDir3pm_NNW', 'WindDir3pm_NW', 'WindDir3pm_S', 'WindDir3pm_SE',\n",
       "       'WindDir3pm_SSE', 'WindDir3pm_SSW', 'WindDir3pm_SW', 'WindDir3pm_W',\n",
       "       'WindDir3pm_WNW', 'WindDir3pm_WSW'],\n",
       "      dtype='object', length=117)"
      ]
     },
     "execution_count": 4,
     "metadata": {},
     "output_type": "execute_result"
    }
   ],
   "source": [
    "X_train.columns"
   ]
  },
  {
   "cell_type": "code",
   "execution_count": 5,
   "metadata": {},
   "outputs": [
    {
     "data": {
      "text/plain": [
       "count    113754.000000\n",
       "mean          0.484406\n",
       "std           0.151741\n",
       "min           0.000000\n",
       "25%           0.375297\n",
       "50%           0.479810\n",
       "75%           0.593824\n",
       "max           1.000000\n",
       "Name: MinTemp, dtype: float64"
      ]
     },
     "execution_count": 5,
     "metadata": {},
     "output_type": "execute_result"
    }
   ],
   "source": [
    "X_train['MinTemp'].describe()"
   ]
  },
  {
   "cell_type": "markdown",
   "metadata": {},
   "source": [
    "Not seeing any irregularities in the first column"
   ]
  },
  {
   "cell_type": "markdown",
   "metadata": {},
   "source": [
    "**Logistic Regression**"
   ]
  },
  {
   "cell_type": "code",
   "execution_count": 10,
   "metadata": {},
   "outputs": [],
   "source": [
    "# Create Logistic Regression - Rain Prediction\n",
    "log_regression = LogisticRegression(solver='liblinear', random_state=0)"
   ]
  },
  {
   "cell_type": "code",
   "execution_count": 11,
   "metadata": {},
   "outputs": [
    {
     "data": {
      "text/plain": [
       "LogisticRegression(random_state=0, solver='liblinear')"
      ]
     },
     "execution_count": 11,
     "metadata": {},
     "output_type": "execute_result"
    }
   ],
   "source": [
    "# Train the model\n",
    "log_regression.fit(X_train, y_train)"
   ]
  },
  {
   "cell_type": "markdown",
   "metadata": {},
   "source": [
    "##### Obtain the accuracy of both the train set and the test set.\n",
    "* Compare the two accuracies and observe if there are any signs of underfitting/overfitting.\n",
    "* Create two dummy baseline models, i.e., models in which the labels are all ‘Yes’ or all ‘No’.\n",
    "* Obtain the accuracy of these two models and compare it to the Rain Prediction model.\n"
   ]
  },
  {
   "cell_type": "code",
   "execution_count": 14,
   "metadata": {},
   "outputs": [],
   "source": [
    "# Predict using test data\n",
    "y_prediction_test = log_regression.predict(X_test)"
   ]
  },
  {
   "cell_type": "code",
   "execution_count": 15,
   "metadata": {},
   "outputs": [
    {
     "name": "stdout",
     "output_type": "stream",
     "text": [
      "Accuracy Score is for test data is :84.80%\n"
     ]
    }
   ],
   "source": [
    "test_accuracy_score  = accuracy_score(y_test, y_prediction_test)\n",
    "print(f\"Accuracy Score is for test data is :{test_accuracy_score*100:.2f}%\")"
   ]
  },
  {
   "cell_type": "code",
   "execution_count": 18,
   "metadata": {},
   "outputs": [],
   "source": [
    "# Predict using train data\n",
    "y_prediction_train = log_regression.predict(X_train)"
   ]
  },
  {
   "cell_type": "code",
   "execution_count": 20,
   "metadata": {},
   "outputs": [
    {
     "name": "stdout",
     "output_type": "stream",
     "text": [
      "Accuracy Score is for train data is :84.78%\n"
     ]
    }
   ],
   "source": [
    "train_accuracy_score  = accuracy_score(y_train, y_prediction_train)\n",
    "print(f\"Accuracy Score is for train data is :{train_accuracy_score*100:.2f}%\")"
   ]
  },
  {
   "cell_type": "markdown",
   "metadata": {},
   "source": [
    "Accuracy scores for both test data and train data seemed to be very similar. No indication of overfitting can be found."
   ]
  },
  {
   "cell_type": "markdown",
   "metadata": {},
   "source": [
    "Creating two dummy baseline models by making the y variable all yes(1) or all no(0)"
   ]
  },
  {
   "cell_type": "code",
   "execution_count": 26,
   "metadata": {},
   "outputs": [],
   "source": [
    "# Create all yes models\n",
    "# Read cleaned data training, test, labels\n",
    "X_train_yes = X_train.copy()\n",
    "X_test_yes  = X_test.copy()\n",
    "y_train_yes = y_train.copy()\n",
    "y_test_yes  = y_test.copy()"
   ]
  },
  {
   "cell_type": "code",
   "execution_count": 36,
   "metadata": {},
   "outputs": [],
   "source": [
    "# Switch values to all yes in y_train and y_test label sets\n",
    "y_train_yes.replace(0,1, inplace=True)\n",
    "y_test_yes.replace(0,1, inplace=True)"
   ]
  },
  {
   "cell_type": "code",
   "execution_count": 41,
   "metadata": {},
   "outputs": [
    {
     "name": "stdout",
     "output_type": "stream",
     "text": [
      "1    113754\n",
      "Name: RainTomorrow, dtype: int64\n",
      "1    28439\n",
      "Name: RainTomorrow, dtype: int64\n"
     ]
    }
   ],
   "source": [
    "# Confirm all values are 1\n",
    "print(y_train_yes.value_counts())\n",
    "print(y_test_yes.value_counts())"
   ]
  },
  {
   "cell_type": "code",
   "execution_count": 42,
   "metadata": {},
   "outputs": [
    {
     "ename": "ValueError",
     "evalue": "This solver needs samples of at least 2 classes in the data, but the data contains only one class: 1",
     "output_type": "error",
     "traceback": [
      "\u001b[0;31m---------------------------------------------------------------------------\u001b[0m",
      "\u001b[0;31mValueError\u001b[0m                                Traceback (most recent call last)",
      "\u001b[0;32m<ipython-input-42-06d3006706e5>\u001b[0m in \u001b[0;36m<module>\u001b[0;34m\u001b[0m\n\u001b[1;32m      3\u001b[0m \u001b[0mlog_regression_yes\u001b[0m \u001b[0;34m=\u001b[0m \u001b[0mLogisticRegression\u001b[0m\u001b[0;34m(\u001b[0m\u001b[0msolver\u001b[0m\u001b[0;34m=\u001b[0m\u001b[0;34m'liblinear'\u001b[0m\u001b[0;34m,\u001b[0m \u001b[0mrandom_state\u001b[0m\u001b[0;34m=\u001b[0m\u001b[0;36m0\u001b[0m\u001b[0;34m)\u001b[0m\u001b[0;34m\u001b[0m\u001b[0;34m\u001b[0m\u001b[0m\n\u001b[1;32m      4\u001b[0m \u001b[0;31m# Train the model\u001b[0m\u001b[0;34m\u001b[0m\u001b[0;34m\u001b[0m\u001b[0;34m\u001b[0m\u001b[0m\n\u001b[0;32m----> 5\u001b[0;31m \u001b[0mlog_regression_yes\u001b[0m\u001b[0;34m.\u001b[0m\u001b[0mfit\u001b[0m\u001b[0;34m(\u001b[0m\u001b[0mX_train_yes\u001b[0m\u001b[0;34m,\u001b[0m \u001b[0my_train_yes\u001b[0m\u001b[0;34m)\u001b[0m\u001b[0;34m\u001b[0m\u001b[0;34m\u001b[0m\u001b[0m\n\u001b[0m",
      "\u001b[0;32m~/anaconda3/envs/manning/lib/python3.8/site-packages/sklearn/linear_model/_logistic.py\u001b[0m in \u001b[0;36mfit\u001b[0;34m(self, X, y, sample_weight)\u001b[0m\n\u001b[1;32m   1354\u001b[0m                               \u001b[0;34m\" 'solver' is set to 'liblinear'. Got 'n_jobs'\"\u001b[0m\u001b[0;34m\u001b[0m\u001b[0;34m\u001b[0m\u001b[0m\n\u001b[1;32m   1355\u001b[0m                               \" = {}.\".format(effective_n_jobs(self.n_jobs)))\n\u001b[0;32m-> 1356\u001b[0;31m             self.coef_, self.intercept_, n_iter_ = _fit_liblinear(\n\u001b[0m\u001b[1;32m   1357\u001b[0m                 \u001b[0mX\u001b[0m\u001b[0;34m,\u001b[0m \u001b[0my\u001b[0m\u001b[0;34m,\u001b[0m \u001b[0mself\u001b[0m\u001b[0;34m.\u001b[0m\u001b[0mC\u001b[0m\u001b[0;34m,\u001b[0m \u001b[0mself\u001b[0m\u001b[0;34m.\u001b[0m\u001b[0mfit_intercept\u001b[0m\u001b[0;34m,\u001b[0m \u001b[0mself\u001b[0m\u001b[0;34m.\u001b[0m\u001b[0mintercept_scaling\u001b[0m\u001b[0;34m,\u001b[0m\u001b[0;34m\u001b[0m\u001b[0;34m\u001b[0m\u001b[0m\n\u001b[1;32m   1358\u001b[0m                 \u001b[0mself\u001b[0m\u001b[0;34m.\u001b[0m\u001b[0mclass_weight\u001b[0m\u001b[0;34m,\u001b[0m \u001b[0mself\u001b[0m\u001b[0;34m.\u001b[0m\u001b[0mpenalty\u001b[0m\u001b[0;34m,\u001b[0m \u001b[0mself\u001b[0m\u001b[0;34m.\u001b[0m\u001b[0mdual\u001b[0m\u001b[0;34m,\u001b[0m \u001b[0mself\u001b[0m\u001b[0;34m.\u001b[0m\u001b[0mverbose\u001b[0m\u001b[0;34m,\u001b[0m\u001b[0;34m\u001b[0m\u001b[0;34m\u001b[0m\u001b[0m\n",
      "\u001b[0;32m~/anaconda3/envs/manning/lib/python3.8/site-packages/sklearn/svm/_base.py\u001b[0m in \u001b[0;36m_fit_liblinear\u001b[0;34m(X, y, C, fit_intercept, intercept_scaling, class_weight, penalty, dual, verbose, max_iter, tol, random_state, multi_class, loss, epsilon, sample_weight)\u001b[0m\n\u001b[1;32m    924\u001b[0m         \u001b[0mclasses_\u001b[0m \u001b[0;34m=\u001b[0m \u001b[0menc\u001b[0m\u001b[0;34m.\u001b[0m\u001b[0mclasses_\u001b[0m\u001b[0;34m\u001b[0m\u001b[0;34m\u001b[0m\u001b[0m\n\u001b[1;32m    925\u001b[0m         \u001b[0;32mif\u001b[0m \u001b[0mlen\u001b[0m\u001b[0;34m(\u001b[0m\u001b[0mclasses_\u001b[0m\u001b[0;34m)\u001b[0m \u001b[0;34m<\u001b[0m \u001b[0;36m2\u001b[0m\u001b[0;34m:\u001b[0m\u001b[0;34m\u001b[0m\u001b[0;34m\u001b[0m\u001b[0m\n\u001b[0;32m--> 926\u001b[0;31m             raise ValueError(\"This solver needs samples of at least 2 classes\"\n\u001b[0m\u001b[1;32m    927\u001b[0m                              \u001b[0;34m\" in the data, but the data contains only one\"\u001b[0m\u001b[0;34m\u001b[0m\u001b[0;34m\u001b[0m\u001b[0m\n\u001b[1;32m    928\u001b[0m                              \" class: %r\" % classes_[0])\n",
      "\u001b[0;31mValueError\u001b[0m: This solver needs samples of at least 2 classes in the data, but the data contains only one class: 1"
     ]
    }
   ],
   "source": [
    "# Create logistic regression with new data \n",
    "# Create Logistic Regression - Rain Prediction\n",
    "log_regression_yes = LogisticRegression(solver='liblinear', random_state=0)\n",
    "# Train the model\n",
    "log_regression_yes.fit(X_train_yes, y_train_yes)"
   ]
  },
  {
   "cell_type": "markdown",
   "metadata": {},
   "source": [
    "##### 2.Obtain the confusion matrix and the classification report for the model.\n",
    "* Understand the difference between the four splits of the data in the confusion matrix, and research about the different metrics that can be obtained using this matrix - precision, recall, f1-score, specificity, true positive rate and false positive rate.\n",
    "* Likewise, understand the values of the metrics obtained from the classification report.\n"
   ]
  },
  {
   "cell_type": "code",
   "execution_count": 46,
   "metadata": {},
   "outputs": [
    {
     "data": {
      "text/plain": [
       "array([[21181,   886],\n",
       "       [ 3437,  2935]])"
      ]
     },
     "execution_count": 46,
     "metadata": {},
     "output_type": "execute_result"
    }
   ],
   "source": [
    "confusion_m = confusion_matrix(y_test,y_prediction_test)\n",
    "confusion_m"
   ]
  },
  {
   "cell_type": "code",
   "execution_count": 87,
   "metadata": {},
   "outputs": [],
   "source": [
    "# Obtain tp, fp, fn, tp\n",
    "TN, FP, FN, TP = confusion_matrix(y_test,y_prediction_test).ravel()"
   ]
  },
  {
   "cell_type": "code",
   "execution_count": 88,
   "metadata": {},
   "outputs": [
    {
     "name": "stdout",
     "output_type": "stream",
     "text": [
      "True Positive (TP):2,935\n",
      "True Negative (TN):21,181\n",
      "False Positive (FP):886\n",
      "False Negative (FN):3,437\n"
     ]
    }
   ],
   "source": [
    "# Print the four pieces of the confusion matrix\n",
    "print(f\"True Positive (TP):{TP:,}\")\n",
    "print(f\"True Negative (TN):{TN:,}\")\n",
    "print(f\"False Positive (FP):{FP:,}\")\n",
    "print(f\"False Negative (FN):{FN:,}\")"
   ]
  },
  {
   "cell_type": "code",
   "execution_count": 89,
   "metadata": {},
   "outputs": [],
   "source": [
    "# Create dataframe to create graph\n",
    "cm_dict={'Actual Positive':[TP,FN],'Actual Negative':[FP,TN]}\n",
    "df_confusion_m = pd.DataFrame(data=cm_dict, columns=[\"Actual Positive\", \"Actual Negative\"], index=[\"Predictive Positive\",\"Predictive Negative\"])"
   ]
  },
  {
   "cell_type": "code",
   "execution_count": 91,
   "metadata": {},
   "outputs": [
    {
     "data": {
      "image/png": "[encoded data removed]",
      "text/plain": [
       "<Figure size 864x720 with 2 Axes>"
      ]
     },
     "metadata": {
      "needs_background": "light"
     },
     "output_type": "display_data"
    }
   ],
   "source": [
    "# Display correlation heatmap\n",
    "fig, ax = plt.subplots(figsize=(12,10)) \n",
    "sns.heatmap(\n",
    "    df_confusion_m,\n",
    "    annot=True,\n",
    "    fmt='d',\n",
    "    cmap=sns.diverging_palette(1, 255, n=50),\n",
    "    ax=ax\n",
    ")\n",
    "ax.set_xticklabels(\n",
    "    ax.get_xticklabels(),\n",
    "    rotation=45,\n",
    "    horizontalalignment='right'\n",
    ");"
   ]
  },
  {
   "cell_type": "code",
   "execution_count": 72,
   "metadata": {},
   "outputs": [
    {
     "name": "stdout",
     "output_type": "stream",
     "text": [
      "              precision    recall  f1-score   support\n",
      "\n",
      "           0       0.86      0.96      0.91     22067\n",
      "           1       0.77      0.46      0.58      6372\n",
      "\n",
      "    accuracy                           0.85     28439\n",
      "   macro avg       0.81      0.71      0.74     28439\n",
      "weighted avg       0.84      0.85      0.83     28439\n",
      "\n"
     ]
    }
   ],
   "source": [
    "# Show classification report showing precicion, recall, f1-score, support\n",
    "print(classification_report(y_test,y_prediction_test))"
   ]
  },
  {
   "cell_type": "code",
   "execution_count": 123,
   "metadata": {},
   "outputs": [
    {
     "data": {
      "text/plain": [
       "0.8495727697879673"
      ]
     },
     "execution_count": 123,
     "metadata": {},
     "output_type": "execute_result"
    }
   ],
   "source": [
    "# Accuracy\n",
    "accuracy = (TP+TN)/(TP+TN+FP+FN)\n",
    "accuracy"
   ]
  },
  {
   "cell_type": "code",
   "execution_count": 95,
   "metadata": {},
   "outputs": [
    {
     "data": {
      "text/plain": [
       "(0.7681235278722848, 0.4606089139987445, 0.5758854115569508, None)"
      ]
     },
     "execution_count": 95,
     "metadata": {},
     "output_type": "execute_result"
    }
   ],
   "source": [
    "# Display precision, recall, fscore from function\n",
    "precision_recall_fscore_support(y_test,y_prediction_test, average='binary')"
   ]
  },
  {
   "cell_type": "code",
   "execution_count": 96,
   "metadata": {},
   "outputs": [
    {
     "data": {
      "text/plain": [
       "0.7681235278722848"
      ]
     },
     "execution_count": 96,
     "metadata": {},
     "output_type": "execute_result"
    }
   ],
   "source": [
    "# Calculate manually\n",
    "# Precision calculation TP/(TP+FP)\n",
    "precision = TP/(TP+FP)\n",
    "precision"
   ]
  },
  {
   "cell_type": "code",
   "execution_count": 97,
   "metadata": {},
   "outputs": [
    {
     "data": {
      "text/plain": [
       "0.4606089139987445"
      ]
     },
     "execution_count": 97,
     "metadata": {},
     "output_type": "execute_result"
    }
   ],
   "source": [
    "# Calculate manually\n",
    "# Recall (true positive rate) calculation TP/(TP+FN)\n",
    "recall = TP/(TP+FN)\n",
    "recall"
   ]
  },
  {
   "cell_type": "code",
   "execution_count": 99,
   "metadata": {},
   "outputs": [
    {
     "data": {
      "text/plain": [
       "0.04015045089953324"
      ]
     },
     "execution_count": 99,
     "metadata": {},
     "output_type": "execute_result"
    }
   ],
   "source": [
    "# Calculate manually\n",
    "# false positive rate calculation FP/(FP+TN)\n",
    "false_PR = FP/(FP+TN)\n",
    "false_PR"
   ]
  },
  {
   "cell_type": "code",
   "execution_count": 98,
   "metadata": {},
   "outputs": [
    {
     "data": {
      "text/plain": [
       "0.5758854115569508"
      ]
     },
     "execution_count": 98,
     "metadata": {},
     "output_type": "execute_result"
    }
   ],
   "source": [
    "# Calculate manually\n",
    "# F1 calculation 2*TP/(2*TP+FP+FN)\n",
    "recall = 2*TP/(2*TP+FP+FN)\n",
    "recall"
   ]
  },
  {
   "cell_type": "code",
   "execution_count": 100,
   "metadata": {},
   "outputs": [
    {
     "data": {
      "text/plain": [
       "0.9598495491004667"
      ]
     },
     "execution_count": 100,
     "metadata": {},
     "output_type": "execute_result"
    }
   ],
   "source": [
    "# Calculate manually\n",
    "#specifity calculation TN / (TN + FP)\n",
    "specifity = TN / (TN + FP)\n",
    "specifity"
   ]
  },
  {
   "cell_type": "markdown",
   "metadata": {},
   "source": [
    "##### 3 By default, the split between “Yes” and “No” occurs at a probability of 0.5. Try changing this threshold to a value in which Type 2 error decreases (which would increase type 1 error as a trade-off)\n",
    "* Try to understand why one would need to alter these threshold values, and its implications on the model.\n"
   ]
  },
  {
   "cell_type": "code",
   "execution_count": 114,
   "metadata": {},
   "outputs": [
    {
     "data": {
      "text/plain": [
       "array([[0.92399234, 0.07600766],\n",
       "       [0.87930385, 0.12069615],\n",
       "       [0.86377416, 0.13622584],\n",
       "       [0.99220862, 0.00779138],\n",
       "       [0.96884661, 0.03115339],\n",
       "       [0.98314454, 0.01685546],\n",
       "       [0.21806678, 0.78193322],\n",
       "       [0.25971709, 0.74028291],\n",
       "       [0.92669556, 0.07330444],\n",
       "       [0.88934784, 0.11065216]])"
      ]
     },
     "execution_count": 114,
     "metadata": {},
     "output_type": "execute_result"
    }
   ],
   "source": [
    "# Probability of no rain(0) and rain(1) for the first 10 records\n",
    "# With a threshold of 0.5, any value with greater than 0.5 indicates yes, it will rain\n",
    "log_regression.predict_proba(X_test)[0:10]"
   ]
  },
  {
   "cell_type": "markdown",
   "metadata": {},
   "source": [
    " * Type 1 error = False Positives - Predicted Rain, Actual no rain\n",
    " * Type 2 Error = False Negatives - Predicted No Rain, Actual rain"
   ]
  },
  {
   "cell_type": "code",
   "execution_count": 130,
   "metadata": {},
   "outputs": [
    {
     "name": "stdout",
     "output_type": "stream",
     "text": [
      "\n",
      "Threshold:0.1\n",
      "False Positives (Type I errors):7,857\n",
      "False Negatives (Type II errors):712\n",
      "Accuracy:69.87%\n",
      "Precision:41.87%\n",
      "Recall:88.83%\n",
      "\n",
      "Threshold:0.2\n",
      "False Positives (Type I errors):3,990\n",
      "False Negatives (Type II errors):1,521\n",
      "Accuracy:80.62%\n",
      "Precision:54.87%\n",
      "Recall:76.13%\n",
      "\n",
      "Threshold:0.3\n",
      "False Positives (Type I errors):2,315\n",
      "False Negatives (Type II errors):2,247\n",
      "Accuracy:83.96%\n",
      "Precision:64.05%\n",
      "Recall:64.74%\n",
      "\n",
      "Threshold:0.4\n",
      "False Positives (Type I errors):1,426\n",
      "False Negatives (Type II errors):2,852\n",
      "Accuracy:84.96%\n",
      "Precision:71.17%\n",
      "Recall:55.24%\n",
      "\n",
      "Threshold:0.5\n",
      "False Positives (Type I errors):886\n",
      "False Negatives (Type II errors):3,437\n",
      "Accuracy:84.80%\n",
      "Precision:76.81%\n",
      "Recall:46.06%\n",
      "\n",
      "Threshold:0.6\n",
      "False Positives (Type I errors):502\n",
      "False Negatives (Type II errors):4,029\n",
      "Accuracy:84.07%\n",
      "Precision:82.36%\n",
      "Recall:36.77%\n",
      "\n",
      "Threshold:0.7\n",
      "False Positives (Type I errors):258\n",
      "False Negatives (Type II errors):4,611\n",
      "Accuracy:82.88%\n",
      "Precision:87.22%\n",
      "Recall:27.64%\n",
      "\n",
      "Threshold:0.8\n",
      "False Positives (Type I errors):108\n",
      "False Negatives (Type II errors):5,199\n",
      "Accuracy:81.34%\n",
      "Precision:91.57%\n",
      "Recall:18.41%\n",
      "\n",
      "Threshold:0.9\n",
      "False Positives (Type I errors):27\n",
      "False Negatives (Type II errors):5,820\n",
      "Accuracy:79.44%\n",
      "Precision:95.34%\n",
      "Recall:8.66%\n"
     ]
    }
   ],
   "source": [
    "# Generate thresholds 0.1 to 0.9 and calculate confusion matrix\n",
    "for i in range(1,10):\n",
    "    # Predict original probability of rain (column 1)\n",
    "    y_rain_prediction = log_regression.predict_proba(X_test)[:,1]    \n",
    "    # Reshape to pass to binarize function\n",
    "    y_rain_prediction = y_rain_prediction.reshape(-1,1)\n",
    "    new_threshold = i/10\n",
    "    print(f\"\\nThreshold:{new_threshold}\")\n",
    "    y_new_rain_prediction = binarize(y_rain_prediction,threshold=new_threshold)\n",
    "    new_confusion_m = confusion_matrix(y_test,y_new_rain_prediction)    \n",
    "    # Obtain tp, fp, fn, tp\n",
    "    TN, FP, FN, TP = new_confusion_m.ravel()\n",
    "    print(f\"False Positives (Type I errors):{FP:,}\")\n",
    "    print(f\"False Negatives (Type II errors):{FN:,}\")\n",
    "    accuracy = (TP+TN)/(TP+TN+FP+FN)\n",
    "    precision = TP/(TP+FP)\n",
    "    recall = TP/(TP+FN)\n",
    "    print(f\"Accuracy:{accuracy*100:.2f}%\")\n",
    "    print(f\"Precision:{precision*100:.2f}%\")\n",
    "    print(f\"Recall:{recall*100:.2f}%\")"
   ]
  }
 ],
 "metadata": {
  "kernelspec": {
   "display_name": "manning",
   "language": "python",
   "name": "manning"
  },
  "language_info": {
   "codemirror_mode": {
    "name": "ipython",
    "version": 3
   },
   "file_extension": ".py",
   "mimetype": "text/x-python",
   "name": "python",
   "nbconvert_exporter": "python",
   "pygments_lexer": "ipython3",
   "version": "3.8.5"
  }
 },
 "nbformat": 4,
 "nbformat_minor": 4
}
